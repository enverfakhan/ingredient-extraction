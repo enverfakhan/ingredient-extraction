{
 "cells": [
  {
   "cell_type": "code",
   "execution_count": 1,
   "outputs": [
    {
     "name": "stderr",
     "output_type": "stream",
     "text": [
      "2022-04-24 19:01:36.044672: I tensorflow/stream_executor/platform/default/dso_loader.cc:53] Successfully opened dynamic library libcudart.so.11.0\n",
      "2022-04-24 19:01:36.957096: I tensorflow/stream_executor/platform/default/dso_loader.cc:53] Successfully opened dynamic library libcuda.so.1\n",
      "2022-04-24 19:01:37.001255: I tensorflow/stream_executor/cuda/cuda_gpu_executor.cc:937] successful NUMA node read from SysFS had negative value (-1), but there must be at least one NUMA node, so returning NUMA node zero\n",
      "2022-04-24 19:01:37.001486: I tensorflow/core/common_runtime/gpu/gpu_device.cc:1733] Found device 0 with properties: \n",
      "pciBusID: 0000:01:00.0 name: NVIDIA GeForce RTX 2060 computeCapability: 7.5\n",
      "coreClock: 1.35GHz coreCount: 30 deviceMemorySize: 5.79GiB deviceMemoryBandwidth: 245.91GiB/s\n",
      "2022-04-24 19:01:37.001511: I tensorflow/stream_executor/platform/default/dso_loader.cc:53] Successfully opened dynamic library libcudart.so.11.0\n",
      "2022-04-24 19:01:37.003367: I tensorflow/stream_executor/platform/default/dso_loader.cc:53] Successfully opened dynamic library libcublas.so.11\n",
      "2022-04-24 19:01:37.003397: I tensorflow/stream_executor/platform/default/dso_loader.cc:53] Successfully opened dynamic library libcublasLt.so.11\n",
      "2022-04-24 19:01:37.003929: I tensorflow/stream_executor/platform/default/dso_loader.cc:53] Successfully opened dynamic library libcufft.so.10\n",
      "2022-04-24 19:01:37.004072: I tensorflow/stream_executor/platform/default/dso_loader.cc:53] Successfully opened dynamic library libcurand.so.10\n",
      "2022-04-24 19:01:37.004626: I tensorflow/stream_executor/platform/default/dso_loader.cc:53] Successfully opened dynamic library libcusolver.so.11\n",
      "2022-04-24 19:01:37.005118: I tensorflow/stream_executor/platform/default/dso_loader.cc:53] Successfully opened dynamic library libcusparse.so.11\n",
      "2022-04-24 19:01:37.005199: I tensorflow/stream_executor/platform/default/dso_loader.cc:53] Successfully opened dynamic library libcudnn.so.8\n",
      "2022-04-24 19:01:37.005260: I tensorflow/stream_executor/cuda/cuda_gpu_executor.cc:937] successful NUMA node read from SysFS had negative value (-1), but there must be at least one NUMA node, so returning NUMA node zero\n",
      "2022-04-24 19:01:37.005478: I tensorflow/stream_executor/cuda/cuda_gpu_executor.cc:937] successful NUMA node read from SysFS had negative value (-1), but there must be at least one NUMA node, so returning NUMA node zero\n",
      "2022-04-24 19:01:37.005655: I tensorflow/core/common_runtime/gpu/gpu_device.cc:1871] Adding visible gpu devices: 0\n",
      "[nltk_data] Downloading package wordnet to\n",
      "[nltk_data]     /home/enverfakhan/nltk_data...\n",
      "[nltk_data]   Package wordnet is already up-to-date!\n",
      "[nltk_data] Downloading package wordnet to\n",
      "[nltk_data]     /home/enverfakhan/nltk_data...\n",
      "[nltk_data]   Package wordnet is already up-to-date!\n"
     ]
    }
   ],
   "source": [
    "import tensorflow as tf\n",
    "gpus = tf.config.experimental.list_physical_devices('GPU')\n",
    "for gpu in gpus:\n",
    "  tf.config.experimental.set_memory_growth(gpu, True)\n",
    "\n",
    "from sklearn.metrics import classification_report\n",
    "\n",
    "from model import BertNer\n",
    "import json\n",
    "import os\n",
    "from optimization import AdamWeightDecay, WarmUp\n",
    "from tokenization import FullTokenizer\n",
    "from utils.foodstyle_utils import get_sentence_len_histogram, convert_logit_to_labels, get_ingredients_and_positions\n",
    "from prepare_data import NerProcessor, convert_examples_to_features, recipe_to_sentences\n",
    "\n",
    "import nltk\n",
    "nltk.download('wordnet')\n",
    "from nltk.stem import WordNetLemmatizer\n",
    "\n",
    "%matplotlib inline\n",
    "import matplotlib.pyplot as plt\n",
    "import numpy as np"
   ],
   "metadata": {
    "collapsed": false,
    "pycharm": {
     "name": "#%%\n"
    }
   }
  },
  {
   "cell_type": "code",
   "execution_count": 2,
   "outputs": [],
   "source": [
    "from prepare_data import readcsvfile"
   ],
   "metadata": {
    "collapsed": false,
    "pycharm": {
     "name": "#%%\n"
    }
   }
  },
  {
   "cell_type": "code",
   "execution_count": 3,
   "outputs": [],
   "source": [
    "train_data, eval_data = readcsvfile('./data/recipes.csv')"
   ],
   "metadata": {
    "collapsed": false,
    "pycharm": {
     "name": "#%%\n"
    }
   }
  },
  {
   "cell_type": "code",
   "execution_count": null,
   "outputs": [],
   "source": [
    "# I trained the model per sentence instead of per recipe\n",
    "# Next step can be making the full recipe integrated into training\n",
    "train_data_sentece_len_dist = get_sentence_len_histogram(train_data)\n",
    "eval_data_sentece_len_dist = get_sentence_len_histogram(eval_data)\n"
   ],
   "metadata": {
    "collapsed": false,
    "pycharm": {
     "name": "#%%\n"
    }
   }
  },
  {
   "cell_type": "code",
   "execution_count": null,
   "outputs": [],
   "source": [
    "plt.bar(train_data_sentece_len_dist.keys(), train_data_sentece_len_dist.values())"
   ],
   "metadata": {
    "collapsed": false,
    "pycharm": {
     "name": "#%%\n"
    }
   }
  },
  {
   "cell_type": "code",
   "execution_count": 12,
   "outputs": [],
   "source": [
    "plt.bar(eval_data_sentece_len_dist.keys(), eval_data_sentece_len_dist.values())"
   ],
   "metadata": {
    "collapsed": false,
    "pycharm": {
     "name": "#%%\n"
    }
   }
  },
  {
   "cell_type": "markdown",
   "source": [
    "We can see the distribution of length of sentences are almost uniform and mostly between 12-24"
   ],
   "metadata": {
    "collapsed": false,
    "pycharm": {
     "name": "#%% md\n"
    }
   }
  },
  {
   "cell_type": "code",
   "execution_count": 2,
   "outputs": [
    {
     "name": "stderr",
     "output_type": "stream",
     "text": [
      "2022-04-24 19:01:49.901049: I tensorflow/core/platform/cpu_feature_guard.cc:142] This TensorFlow binary is optimized with oneAPI Deep Neural Network Library (oneDNN) to use the following CPU instructions in performance-critical operations:  AVX2 FMA\n",
      "To enable them in other operations, rebuild TensorFlow with the appropriate compiler flags.\n",
      "2022-04-24 19:01:49.901567: I tensorflow/stream_executor/cuda/cuda_gpu_executor.cc:937] successful NUMA node read from SysFS had negative value (-1), but there must be at least one NUMA node, so returning NUMA node zero\n",
      "2022-04-24 19:01:49.901807: I tensorflow/core/common_runtime/gpu/gpu_device.cc:1733] Found device 0 with properties: \n",
      "pciBusID: 0000:01:00.0 name: NVIDIA GeForce RTX 2060 computeCapability: 7.5\n",
      "coreClock: 1.35GHz coreCount: 30 deviceMemorySize: 5.79GiB deviceMemoryBandwidth: 245.91GiB/s\n",
      "2022-04-24 19:01:49.901866: I tensorflow/stream_executor/cuda/cuda_gpu_executor.cc:937] successful NUMA node read from SysFS had negative value (-1), but there must be at least one NUMA node, so returning NUMA node zero\n",
      "2022-04-24 19:01:49.902077: I tensorflow/stream_executor/cuda/cuda_gpu_executor.cc:937] successful NUMA node read from SysFS had negative value (-1), but there must be at least one NUMA node, so returning NUMA node zero\n",
      "2022-04-24 19:01:49.902258: I tensorflow/core/common_runtime/gpu/gpu_device.cc:1871] Adding visible gpu devices: 0\n",
      "2022-04-24 19:01:49.902286: I tensorflow/stream_executor/platform/default/dso_loader.cc:53] Successfully opened dynamic library libcudart.so.11.0\n",
      "2022-04-24 19:01:50.280946: I tensorflow/core/common_runtime/gpu/gpu_device.cc:1258] Device interconnect StreamExecutor with strength 1 edge matrix:\n",
      "2022-04-24 19:01:50.280974: I tensorflow/core/common_runtime/gpu/gpu_device.cc:1264]      0 \n",
      "2022-04-24 19:01:50.280980: I tensorflow/core/common_runtime/gpu/gpu_device.cc:1277] 0:   N \n",
      "2022-04-24 19:01:50.281103: I tensorflow/stream_executor/cuda/cuda_gpu_executor.cc:937] successful NUMA node read from SysFS had negative value (-1), but there must be at least one NUMA node, so returning NUMA node zero\n",
      "2022-04-24 19:01:50.281356: I tensorflow/stream_executor/cuda/cuda_gpu_executor.cc:937] successful NUMA node read from SysFS had negative value (-1), but there must be at least one NUMA node, so returning NUMA node zero\n",
      "2022-04-24 19:01:50.281579: I tensorflow/stream_executor/cuda/cuda_gpu_executor.cc:937] successful NUMA node read from SysFS had negative value (-1), but there must be at least one NUMA node, so returning NUMA node zero\n",
      "2022-04-24 19:01:50.281785: I tensorflow/core/common_runtime/gpu/gpu_device.cc:1418] Created TensorFlow device (/job:localhost/replica:0/task:0/device:GPU:0 with 4305 MB memory) -> physical GPU (device: 0, name: NVIDIA GeForce RTX 2060, pci bus id: 0000:01:00.0, compute capability: 7.5)\n",
      "2022-04-24 19:01:51.957587: I tensorflow/stream_executor/platform/default/dso_loader.cc:53] Successfully opened dynamic library libcublas.so.11\n",
      "2022-04-24 19:01:52.260617: I tensorflow/stream_executor/platform/default/dso_loader.cc:53] Successfully opened dynamic library libcublasLt.so.11\n"
     ]
    }
   ],
   "source": [
    "# loading trained model\n",
    "tokenizer = FullTokenizer(os.path.join('output/2022-4-24-14-21-9', \"vocab.txt\"), do_lower_case=True)\n",
    "\n",
    "max_seq_length = 50\n",
    "processor = NerProcessor()\n",
    "label_list = processor.get_labels()\n",
    "num_labels = len(label_list) + 1\n",
    "label_map = {i : label for i, label in enumerate(label_list,1)}\n",
    "\n",
    "config = json.load(open(os.path.join('output/2022-4-24-14-21-9',\"bert_config.json\")))\n",
    "ner = BertNer(config, tf.float32, num_labels, max_seq_length)\n",
    "\n",
    "ids = tf.ones((1,50),dtype=tf.int32)\n",
    "_ = ner(ids,ids,ids,ids, training=False)\n",
    "ner.load_weights(os.path.join('output/2022-4-24-14-21-9', \"model-8.h5\"))"
   ],
   "metadata": {
    "collapsed": false,
    "pycharm": {
     "name": "#%%\n"
    }
   }
  },
  {
   "cell_type": "code",
   "execution_count": 9,
   "outputs": [
    {
     "name": "stderr",
     "output_type": "stream",
     "text": [
      "0it [00:00, ?it/s]04/24/2022 19:14:52 - INFO - prepare_data -   *** Example ***\n",
      "04/24/2022 19:14:52 - INFO - prepare_data -   guid: test-0\n",
      "04/24/2022 19:14:52 - INFO - prepare_data -   tokens: in a large bowl , combine flour , baking powder , baking soda , salt , c ##innamon , nut ##me ##g , brown sugar , and o ##ats .\n",
      "04/24/2022 19:14:52 - INFO - prepare_data -   input_ids: 101 1107 170 1415 7329 117 12479 15068 117 26377 10794 117 26377 18402 117 6870 117 172 23339 117 22664 3263 1403 117 3058 6656 117 1105 184 9971 119 102 0 0 0 0 0 0 0 0 0 0 0 0 0 0 0 0 0 0\n",
      "04/24/2022 19:14:52 - INFO - prepare_data -   input_mask: 1 1 1 1 1 1 1 1 1 1 1 1 1 1 1 1 1 1 1 1 1 1 1 1 1 1 1 1 1 1 1 1 0 0 0 0 0 0 0 0 0 0 0 0 0 0 0 0 0 0\n",
      "04/24/2022 19:14:52 - INFO - prepare_data -   segment_ids: 0 0 0 0 0 0 0 0 0 0 0 0 0 0 0 0 0 0 0 0 0 0 0 0 0 0 0 0 0 0 0 0 0 0 0 0 0 0 0 0 0 0 0 0 0 0 0 0 0 0\n",
      "04/24/2022 19:14:52 - INFO - prepare_data -   *** Example ***\n",
      "04/24/2022 19:14:52 - INFO - prepare_data -   guid: test-1\n",
      "04/24/2022 19:14:52 - INFO - prepare_data -   tokens: add apple , nuts , r ##ais ##ins , eggs , milk , and oil .\n",
      "04/24/2022 19:14:52 - INFO - prepare_data -   input_ids: 101 5194 12075 117 13937 117 187 15837 4935 117 6471 117 6831 117 1105 2949 119 102 0 0 0 0 0 0 0 0 0 0 0 0 0 0 0 0 0 0 0 0 0 0 0 0 0 0 0 0 0 0 0 0\n",
      "04/24/2022 19:14:52 - INFO - prepare_data -   input_mask: 1 1 1 1 1 1 1 1 1 1 1 1 1 1 1 1 1 1 0 0 0 0 0 0 0 0 0 0 0 0 0 0 0 0 0 0 0 0 0 0 0 0 0 0 0 0 0 0 0 0\n",
      "04/24/2022 19:14:52 - INFO - prepare_data -   segment_ids: 0 0 0 0 0 0 0 0 0 0 0 0 0 0 0 0 0 0 0 0 0 0 0 0 0 0 0 0 0 0 0 0 0 0 0 0 0 0 0 0 0 0 0 0 0 0 0 0 0 0\n",
      "04/24/2022 19:14:52 - INFO - prepare_data -   *** Example ***\n",
      "04/24/2022 19:14:52 - INFO - prepare_data -   guid: test-2\n",
      "04/24/2022 19:14:52 - INFO - prepare_data -   tokens: mix until dry ingredients are moist ##ened .\n",
      "04/24/2022 19:14:52 - INFO - prepare_data -   input_ids: 101 5495 1235 3712 13288 1132 11758 4772 119 102 0 0 0 0 0 0 0 0 0 0 0 0 0 0 0 0 0 0 0 0 0 0 0 0 0 0 0 0 0 0 0 0 0 0 0 0 0 0 0 0\n",
      "04/24/2022 19:14:52 - INFO - prepare_data -   input_mask: 1 1 1 1 1 1 1 1 1 1 0 0 0 0 0 0 0 0 0 0 0 0 0 0 0 0 0 0 0 0 0 0 0 0 0 0 0 0 0 0 0 0 0 0 0 0 0 0 0 0\n",
      "04/24/2022 19:14:52 - INFO - prepare_data -   segment_ids: 0 0 0 0 0 0 0 0 0 0 0 0 0 0 0 0 0 0 0 0 0 0 0 0 0 0 0 0 0 0 0 0 0 0 0 0 0 0 0 0 0 0 0 0 0 0 0 0 0 0\n",
      "04/24/2022 19:14:52 - INFO - prepare_data -   *** Example ***\n",
      "04/24/2022 19:14:52 - INFO - prepare_data -   guid: test-3\n",
      "04/24/2022 19:14:52 - INFO - prepare_data -   tokens: b ##ake for 55 to 60 minutes , or until done .\n",
      "04/24/2022 19:14:52 - INFO - prepare_data -   input_ids: 101 171 9899 1111 3731 1106 2539 1904 117 1137 1235 1694 119 102 0 0 0 0 0 0 0 0 0 0 0 0 0 0 0 0 0 0 0 0 0 0 0 0 0 0 0 0 0 0 0 0 0 0 0 0\n",
      "04/24/2022 19:14:52 - INFO - prepare_data -   input_mask: 1 1 1 1 1 1 1 1 1 1 1 1 1 1 0 0 0 0 0 0 0 0 0 0 0 0 0 0 0 0 0 0 0 0 0 0 0 0 0 0 0 0 0 0 0 0 0 0 0 0\n",
      "04/24/2022 19:14:52 - INFO - prepare_data -   segment_ids: 0 0 0 0 0 0 0 0 0 0 0 0 0 0 0 0 0 0 0 0 0 0 0 0 0 0 0 0 0 0 0 0 0 0 0 0 0 0 0 0 0 0 0 0 0 0 0 0 0 0\n",
      "04/24/2022 19:14:52 - INFO - prepare_data -   *** Example ***\n",
      "04/24/2022 19:14:52 - INFO - prepare_data -   guid: test-4\n",
      "04/24/2022 19:14:52 - INFO - prepare_data -   tokens: cool on wire rack .\n",
      "04/24/2022 19:14:52 - INFO - prepare_data -   input_ids: 101 4348 1113 7700 16365 119 102 0 0 0 0 0 0 0 0 0 0 0 0 0 0 0 0 0 0 0 0 0 0 0 0 0 0 0 0 0 0 0 0 0 0 0 0 0 0 0 0 0 0 0\n",
      "04/24/2022 19:14:52 - INFO - prepare_data -   input_mask: 1 1 1 1 1 1 1 0 0 0 0 0 0 0 0 0 0 0 0 0 0 0 0 0 0 0 0 0 0 0 0 0 0 0 0 0 0 0 0 0 0 0 0 0 0 0 0 0 0 0\n",
      "04/24/2022 19:14:52 - INFO - prepare_data -   segment_ids: 0 0 0 0 0 0 0 0 0 0 0 0 0 0 0 0 0 0 0 0 0 0 0 0 0 0 0 0 0 0 0 0 0 0 0 0 0 0 0 0 0 0 0 0 0 0 0 0 0 0\n",
      "6it [00:00, 724.68it/s]\n"
     ]
    }
   ],
   "source": [
    "sample_recipe = \"\"\"In a large bowl, combine flour, baking powder, baking soda, salt, cinnamon, nutmeg, brown sugar, and  oats. Add apple, nuts, raisins, eggs, milk, and oil.  Mix until dry ingredients are moistened.**Bake for 55 to 60 minutes, or until done.  Cool on wire rack.\n",
    "\"\"\"\n",
    "sentences_labels_pair = recipe_to_sentences(sample_recipe, ingrs=[])\n",
    "sample_example = processor._create_examples(sentences_labels_pair, 'test')\n",
    "sample_features = convert_examples_to_features(sample_example, label_list, max_seq_length, tokenizer)\n"
   ],
   "metadata": {
    "collapsed": false,
    "pycharm": {
     "name": "#%%\n"
    }
   }
  },
  {
   "cell_type": "code",
   "execution_count": 4,
   "outputs": [],
   "source": [
    "all_input_ids= tf.convert_to_tensor(np.asarray([f.input_ids for f in sample_features],dtype=np.int32))\n",
    "all_input_mask = tf.convert_to_tensor(\n",
    "    np.asarray([f.input_mask for f in sample_features],dtype=np.int32))\n",
    "all_segment_ids = tf.convert_to_tensor(\n",
    "    np.asarray([f.segment_ids for f in sample_features],dtype=np.int32))\n",
    "all_valid_ids = tf.convert_to_tensor(\n",
    "    np.asarray([f.valid_ids for f in sample_features],dtype=np.int32))\n",
    "all_label_ids = tf.convert_to_tensor(\n",
    "    np.asarray([f.label_id for f in sample_features],dtype=np.int32))"
   ],
   "metadata": {
    "collapsed": false,
    "pycharm": {
     "name": "#%%\n"
    }
   }
  },
  {
   "cell_type": "code",
   "execution_count": 5,
   "outputs": [],
   "source": [
    "logits = ner(all_input_ids, all_input_mask, all_segment_ids, all_valid_ids, training=False)"
   ],
   "metadata": {
    "collapsed": false,
    "pycharm": {
     "name": "#%%\n"
    }
   }
  },
  {
   "cell_type": "code",
   "execution_count": 13,
   "outputs": [
    {
     "data": {
      "text/plain": "<tf.Tensor: shape=(6, 50, 5), dtype=float32, numpy=\narray([[[2.9373293e-06, 1.2242394e-04, 1.4227959e-05, 9.9981755e-01,\n         4.2871641e-05],\n        [1.8990738e-07, 9.9995625e-01, 2.8835315e-05, 1.7505897e-06,\n         1.2902101e-05],\n        [2.1512477e-07, 9.9996018e-01, 2.4754383e-05, 1.7088914e-06,\n         1.3102019e-05],\n        ...,\n        [2.9373293e-06, 1.2242394e-04, 1.4227959e-05, 9.9981755e-01,\n         4.2871641e-05],\n        [2.9373293e-06, 1.2242394e-04, 1.4227959e-05, 9.9981755e-01,\n         4.2871641e-05],\n        [2.9373293e-06, 1.2242394e-04, 1.4227959e-05, 9.9981755e-01,\n         4.2871641e-05]],\n\n       [[2.8550187e-06, 1.2468622e-04, 1.4352357e-05, 9.9981564e-01,\n         4.2502164e-05],\n        [2.0830467e-07, 9.9996555e-01, 2.0662570e-05, 1.6479946e-06,\n         1.1912990e-05],\n        [4.2691488e-07, 1.9341878e-03, 9.9805647e-01, 3.2976293e-06,\n         5.6373215e-06],\n        ...,\n        [2.8550187e-06, 1.2468622e-04, 1.4352357e-05, 9.9981564e-01,\n         4.2502164e-05],\n        [2.8550187e-06, 1.2468622e-04, 1.4352357e-05, 9.9981564e-01,\n         4.2502164e-05],\n        [2.8550187e-06, 1.2468622e-04, 1.4352357e-05, 9.9981564e-01,\n         4.2502164e-05]],\n\n       [[2.7454985e-06, 1.3045775e-04, 1.5174414e-05, 9.9981290e-01,\n         3.8769846e-05],\n        [1.0724663e-07, 9.9995720e-01, 2.6840431e-05, 1.0892675e-06,\n         1.4799909e-05],\n        [2.0692882e-07, 9.9996758e-01, 1.7649885e-05, 1.9906593e-06,\n         1.2547804e-05],\n        ...,\n        [2.7454985e-06, 1.3045775e-04, 1.5174414e-05, 9.9981290e-01,\n         3.8769846e-05],\n        [2.7454985e-06, 1.3045775e-04, 1.5174414e-05, 9.9981290e-01,\n         3.8769846e-05],\n        [2.7454985e-06, 1.3045775e-04, 1.5174414e-05, 9.9981290e-01,\n         3.8769846e-05]],\n\n       [[2.6771072e-06, 1.3703351e-04, 1.5250649e-05, 9.9980599e-01,\n         3.9079321e-05],\n        [1.7083323e-07, 9.9996626e-01, 2.0384343e-05, 1.4554236e-06,\n         1.1823762e-05],\n        [1.9651401e-07, 9.9996805e-01, 1.8511117e-05, 1.8518825e-06,\n         1.1279440e-05],\n        ...,\n        [2.6771072e-06, 1.3703351e-04, 1.5250649e-05, 9.9980599e-01,\n         3.9079321e-05],\n        [2.6771072e-06, 1.3703351e-04, 1.5250649e-05, 9.9980599e-01,\n         3.9079321e-05],\n        [2.6771072e-06, 1.3703351e-04, 1.5250649e-05, 9.9980599e-01,\n         3.9079321e-05]],\n\n       [[2.7082567e-06, 1.3784647e-04, 1.5650894e-05, 9.9980444e-01,\n         3.9465776e-05],\n        [1.7672484e-07, 9.9996638e-01, 2.0532236e-05, 1.6496580e-06,\n         1.1354851e-05],\n        [2.0533398e-07, 9.9996686e-01, 2.0056099e-05, 1.9395104e-06,\n         1.0866297e-05],\n        ...,\n        [2.7082567e-06, 1.3784647e-04, 1.5650894e-05, 9.9980444e-01,\n         3.9465776e-05],\n        [2.7082567e-06, 1.3784647e-04, 1.5650894e-05, 9.9980444e-01,\n         3.9465776e-05],\n        [2.7082567e-06, 1.3784647e-04, 1.5650894e-05, 9.9980444e-01,\n         3.9465776e-05]],\n\n       [[2.7880778e-06, 1.1789085e-04, 1.4682537e-05, 9.9982566e-01,\n         3.9010531e-05],\n        [1.0725846e-06, 2.3094185e-02, 2.5839347e-04, 1.8848294e-05,\n         9.7662747e-01],\n        [5.5004773e-05, 4.2560998e-01, 3.8658798e-02, 4.1602919e-04,\n         5.3526020e-01],\n        ...,\n        [2.7880778e-06, 1.1789085e-04, 1.4682537e-05, 9.9982566e-01,\n         3.9010531e-05],\n        [2.7880778e-06, 1.1789085e-04, 1.4682537e-05, 9.9982566e-01,\n         3.9010531e-05],\n        [2.7880778e-06, 1.1789085e-04, 1.4682537e-05, 9.9982566e-01,\n         3.9010531e-05]]], dtype=float32)>"
     },
     "execution_count": 13,
     "metadata": {},
     "output_type": "execute_result"
    }
   ],
   "source": [
    "logits"
   ],
   "metadata": {
    "collapsed": false,
    "pycharm": {
     "name": "#%%\n"
    }
   }
  },
  {
   "cell_type": "code",
   "execution_count": 6,
   "outputs": [
    {
     "name": "stdout",
     "output_type": "stream",
     "text": [
      "['N-ING', 'N-ING', 'N-ING', 'N-ING', 'N-ING', 'ING', 'ING', 'ING', 'ING', 'ING', 'ING', 'ING', 'ING', 'ING', 'ING', 'N-ING', 'ING', '[SEP]', '[CLS]', '[CLS]', '[CLS]', '[CLS]', '[CLS]', '[CLS]', '[CLS]', '[CLS]', '[CLS]', '[CLS]', '[CLS]', '[CLS]', 'N-ING', 'ING', 'N-ING', 'ING', 'ING', 'ING', 'N-ING', 'ING', '[SEP]', '[CLS]', '[CLS]', '[CLS]', '[CLS]', '[CLS]', '[CLS]', '[CLS]', 'N-ING', 'N-ING', 'N-ING', 'N-ING', 'N-ING', 'N-ING', '[SEP]', '[CLS]', 'N-ING', 'N-ING', 'N-ING', 'N-ING', 'N-ING', 'N-ING', 'N-ING', 'N-ING', 'N-ING', '[SEP]', '[CLS]', '[CLS]', 'N-ING', 'N-ING', 'N-ING', 'N-ING', '[SEP]', '[SEP]'] ['in', 'a', 'large', 'bowl', ',', 'combine', 'flour', ',', 'baking', 'powder', ',', 'baking', 'soda', ',', 'salt', ',', 'c', '##innamon', ',', 'nut', '##me', '##g', ',', 'brown', 'sugar', ',', 'and', 'o', '##ats', '.', 'add', 'apple', ',', 'nuts', ',', 'r', '##ais', '##ins', ',', 'eggs', ',', 'milk', ',', 'and', 'oil', '.', 'mix', 'until', 'dry', 'ingredients', 'are', 'moist', '##ened', '.', 'b', '##ake', 'for', '55', 'to', '60', 'minutes', ',', 'or', 'until', 'done', '.', 'cool', 'on', 'wire', 'rack', '.', '.']\n"
     ]
    }
   ],
   "source": [
    "pred, tokens = convert_logit_to_labels(logits, all_label_ids, label_map, all_input_ids, tokenizer)\n",
    "print(pred, tokens)"
   ],
   "metadata": {
    "collapsed": false,
    "pycharm": {
     "name": "#%%\n"
    }
   }
  },
  {
   "cell_type": "markdown",
   "source": [],
   "metadata": {
    "collapsed": false,
    "pycharm": {
     "name": "#%% md\n"
    }
   }
  },
  {
   "cell_type": "code",
   "execution_count": 8,
   "outputs": [
    {
     "name": "stdout",
     "output_type": "stream",
     "text": [
      "72\n"
     ]
    }
   ],
   "source": [
    "print(len(pred))"
   ],
   "metadata": {
    "collapsed": false,
    "pycharm": {
     "name": "#%%\n"
    }
   }
  },
  {
   "cell_type": "code",
   "execution_count": 7,
   "outputs": [],
   "source": [
    "result = get_ingredients_and_positions(pred, tokens)"
   ],
   "metadata": {
    "collapsed": false,
    "pycharm": {
     "name": "#%%\n"
    }
   }
  },
  {
   "cell_type": "code",
   "execution_count": 8,
   "outputs": [
    {
     "data": {
      "text/plain": "[['combine flour', 17, 31],\n ['baking powder', 32, 46],\n ['baking soda', 47, 59],\n ['salt', 60, 65],\n ['cinnamon', 67, 75],\n ['apple', 108, 114],\n ['nuts', 115, 120],\n ['raisins', 122, 129]]"
     },
     "execution_count": 8,
     "metadata": {},
     "output_type": "execute_result"
    }
   ],
   "source": [
    "result"
   ],
   "metadata": {
    "collapsed": false,
    "pycharm": {
     "name": "#%%\n"
    }
   }
  },
  {
   "cell_type": "code",
   "execution_count": null,
   "outputs": [],
   "source": [],
   "metadata": {
    "collapsed": false,
    "pycharm": {
     "name": "#%%\n"
    }
   }
  }
 ],
 "metadata": {
  "kernelspec": {
   "display_name": "Python 3",
   "language": "python",
   "name": "python3"
  },
  "language_info": {
   "codemirror_mode": {
    "name": "ipython",
    "version": 2
   },
   "file_extension": ".py",
   "mimetype": "text/x-python",
   "name": "python",
   "nbconvert_exporter": "python",
   "pygments_lexer": "ipython2",
   "version": "2.7.6"
  }
 },
 "nbformat": 4,
 "nbformat_minor": 0
}